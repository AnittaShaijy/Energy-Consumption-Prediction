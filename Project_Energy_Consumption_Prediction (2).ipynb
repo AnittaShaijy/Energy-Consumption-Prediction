{
 "cells": [
  {
   "cell_type": "markdown",
   "id": "89699cb7-bc1b-4c75-8b09-57f75c0736d3",
   "metadata": {},
   "source": [
    "# Energy Consumption Prediction"
   ]
  },
  {
   "cell_type": "code",
   "execution_count": null,
   "id": "10130df0-9d7a-4e5a-8bea-8246e38aff8f",
   "metadata": {},
   "outputs": [],
   "source": [
    "import pandas as pd\n",
    "import numpy as np\n",
    "import matplotlib.pyplot as plt\n",
    "import seaborn as sns\n",
    "from sklearn.model_selection import train_test_split\n",
    "from sklearn.ensemble import RandomForestRegressor\n",
    "from xgboost import XGBRegressor\n",
    "from sklearn.preprocessing import StandardScaler\n",
    "from sklearn.metrics import r2_score, mean_absolute_error, mean_squared_error"
   ]
  },
  {
   "cell_type": "markdown",
   "id": "463c6320-06f9-467b-931f-6789415bcc33",
   "metadata": {},
   "source": [
    "## Loading the Dataset"
   ]
  },
  {
   "cell_type": "code",
   "execution_count": null,
   "id": "a536142e-ebef-4843-a0e5-7e4ebfcc4ad3",
   "metadata": {},
   "outputs": [],
   "source": [
    "df = pd.read_csv(\"C:\\\\Users\\\\user\\\\Downloads\\\\Energy_Consumption_Prediction.csv\")"
   ]
  },
  {
   "cell_type": "markdown",
   "id": "48cec790-ef3f-41ba-b7cf-0f991ebb1bfc",
   "metadata": {},
   "source": [
    "## Data Preprocessing"
   ]
  },
  {
   "cell_type": "markdown",
   "id": "bd9d2b72-ea42-4d02-9e91-55712cac3e99",
   "metadata": {},
   "source": [
    "### Date Creation"
   ]
  },
  {
   "cell_type": "code",
   "execution_count": null,
   "id": "6578e575-dc6f-4cd6-9ce0-7db5c1e6a354",
   "metadata": {},
   "outputs": [],
   "source": [
    "df['date'] = pd.to_datetime(df[['year', 'month']].assign(day=1))"
   ]
  },
  {
   "cell_type": "markdown",
   "id": "30341dfc-472f-4684-bcf9-4d7b4115a2ee",
   "metadata": {},
   "source": [
    "### Extract time-based features\n",
    "\n"
   ]
  },
  {
   "cell_type": "code",
   "execution_count": null,
   "id": "cb267947-3774-400d-bdd6-0e138af52148",
   "metadata": {},
   "outputs": [],
   "source": [
    "df['month'] = df['date'].dt.month\n",
    "df['year'] = df['date'].dt.year"
   ]
  },
  {
   "cell_type": "markdown",
   "id": "fae60f90-3a2b-4a10-a6ae-6b502330435b",
   "metadata": {},
   "source": [
    "### Define features and target"
   ]
  },
  {
   "cell_type": "code",
   "execution_count": null,
   "id": "e7e72dd1-f4c2-452e-8bf5-84c351659e41",
   "metadata": {},
   "outputs": [],
   "source": [
    "features = ['number_of_accounts', 'full_fips', 'month', 'year']  \n",
    "target = 'value'\n",
    "df.replace([np.inf, -np.inf], np.nan, inplace=True) "
   ]
  },
  {
   "cell_type": "markdown",
   "id": "1ecce755-da15-4ad4-bce5-6a7020a007d7",
   "metadata": {},
   "source": [
    "### Handling missing values"
   ]
  },
  {
   "cell_type": "code",
   "execution_count": null,
   "id": "94a2ae65-71d4-4d19-9e97-a3436ae582f1",
   "metadata": {},
   "outputs": [],
   "source": [
    "df.fillna(df.select_dtypes(include=[np.number]).median(), inplace=True)"
   ]
  },
  {
   "cell_type": "markdown",
   "id": "4b750f04-0157-4a46-b4ff-f349fdf11534",
   "metadata": {},
   "source": [
    "### Remove duplicates\n"
   ]
  },
  {
   "cell_type": "code",
   "execution_count": null,
   "id": "0c29724c-8bd3-4887-a8d1-e96ea13b250b",
   "metadata": {},
   "outputs": [],
   "source": [
    "df.drop_duplicates(inplace=True)"
   ]
  },
  {
   "cell_type": "markdown",
   "id": "cfdf6f17-e722-468b-952f-67a5b7829903",
   "metadata": {},
   "source": [
    "### Detecting outliers and removing them"
   ]
  },
  {
   "cell_type": "code",
   "execution_count": null,
   "id": "ced91055-e3a1-4969-a1a6-d65eb8289bf4",
   "metadata": {},
   "outputs": [],
   "source": [
    "def detect_and_remove_outliers(df, cols):\n",
    "    for col in cols:\n",
    "        if col in df.columns:  # Check if column exists\n",
    "            Q1, Q3 = df[col].quantile([0.25, 0.75])\n",
    "            IQR = Q3 - Q1\n",
    "            lower_bound = Q1 - 1.5 * IQR\n",
    "            upper_bound = Q3 + 1.5 * IQR\n",
    "            df = df[(df[col] >= lower_bound) & (df[col] <= upper_bound)]\n",
    "    return df\n",
    "\n",
    "df = detect_and_remove_outliers(df, features + [target])"
   ]
  },
  {
   "cell_type": "code",
   "execution_count": null,
   "id": "7154cbb8-47d9-4b4b-b25f-cda3d545396a",
   "metadata": {},
   "outputs": [],
   "source": [
    "# Check if dataset is empty\n",
    "if df.empty or len(df) < 5:\n",
    "    print(\"Warning: Too many outliers removed! Consider adjusting the IQR threshold.\")\n",
    "    df = pd.read_csv(\"Energy_Consumption_Prediction.csv\")  "
   ]
  },
  {
   "cell_type": "code",
   "execution_count": null,
   "id": "52852c0a-9d01-47cc-b16d-d61e117dde90",
   "metadata": {},
   "outputs": [],
   "source": [
    "# Check if dataframe is empty\n",
    "print(f\"Dataframe size after preprocessing: {df.shape}\")"
   ]
  },
  {
   "cell_type": "code",
   "execution_count": null,
   "id": "25087550-522d-41e6-9817-89e6b1e85a2e",
   "metadata": {},
   "outputs": [],
   "source": [
    "# Check for missing values\n",
    "print(f\"Missing values:\\n{df.isnull().sum()}\")"
   ]
  },
  {
   "cell_type": "code",
   "execution_count": null,
   "id": "01ff5570-e15d-492c-a0ac-8dbeab92a355",
   "metadata": {},
   "outputs": [],
   "source": [
    "# Check if selected features exist in dataset\n",
    "print(f\"Columns in dataset: {df.columns.tolist()}\")\n",
    "print(f\"Selected features: {features}\")"
   ]
  },
  {
   "cell_type": "code",
   "execution_count": null,
   "id": "73b89418-9e48-4d4a-a770-4bba24da0fab",
   "metadata": {},
   "outputs": [],
   "source": [
    "df.info()"
   ]
  },
  {
   "cell_type": "code",
   "execution_count": null,
   "id": "a5713471-28bc-4ca6-8089-ae27a3bdfadd",
   "metadata": {},
   "outputs": [],
   "source": [
    "df.describe()"
   ]
  },
  {
   "cell_type": "markdown",
   "id": "483b3937-74ed-454a-a80e-4ecca19b49d8",
   "metadata": {},
   "source": [
    "## Visualizations"
   ]
  },
  {
   "cell_type": "code",
   "execution_count": null,
   "id": "5296f61c-c94a-4cce-b2fb-4bb6f4ce8ab1",
   "metadata": {},
   "outputs": [],
   "source": [
    "plt.figure(figsize=(10, 5))\n",
    "sns.lineplot(data=df, x='date', y='value', marker='o', label='Energy Consumption')\n",
    "plt.xlabel(\"Date\")\n",
    "plt.ylabel(\"Energy Consumption\")\n",
    "plt.title(\"Energy Consumption Over Time\")\n",
    "plt.xticks(rotation=45)\n",
    "plt.legend()\n",
    "plt.show()"
   ]
  },
  {
   "cell_type": "code",
   "execution_count": null,
   "id": "64aa4c4f-c539-4ef1-ac16-15bccb322708",
   "metadata": {},
   "outputs": [],
   "source": [
    "num_df = df.select_dtypes(include=['number', 'float', 'int'])\n",
    "plt.figure(figsize=(10, 5))\n",
    "sns.heatmap(num_df.corr(), annot=True, cmap=\"coolwarm\", fmt=\".2f\", linewidths=0.5)\n",
    "plt.title(\"Feature Correlation Heatmap\")\n",
    "plt.show()"
   ]
  },
  {
   "cell_type": "markdown",
   "id": "b25e358d-039a-4c4b-8b65-a7e1941f7117",
   "metadata": {},
   "source": [
    "## Model Building"
   ]
  },
  {
   "cell_type": "markdown",
   "id": "236a5c91-738b-476d-a86a-32bc153ee8e6",
   "metadata": {},
   "source": [
    "### Splitting data into training and testing sets"
   ]
  },
  {
   "cell_type": "code",
   "execution_count": null,
   "id": "1babda90-e76c-42df-b041-4ee862b2f0ba",
   "metadata": {},
   "outputs": [],
   "source": [
    "X, y = df[features], df[target]\n",
    "X_train, X_test, y_train, y_test = train_test_split(X, y, test_size=0.2, random_state=42)"
   ]
  },
  {
   "cell_type": "markdown",
   "id": "9e38692a-dcc9-4155-bf99-4d102f701a72",
   "metadata": {},
   "source": [
    "### Scale data"
   ]
  },
  {
   "cell_type": "code",
   "execution_count": null,
   "id": "9e5d2225-65e2-48ca-9707-81c077670b37",
   "metadata": {},
   "outputs": [],
   "source": [
    "scaler = StandardScaler().fit(X_train)\n",
    "X_train_scaled = pd.DataFrame(scaler.transform(X_train), columns=features, index=X_train.index)\n",
    "X_test_scaled = pd.DataFrame(scaler.transform(X_test), columns=features, index=X_test.index)"
   ]
  },
  {
   "cell_type": "markdown",
   "id": "86531e94-246e-47b0-b85c-cc8fe4009d5d",
   "metadata": {},
   "source": [
    "### Random Forest Regressor"
   ]
  },
  {
   "cell_type": "code",
   "execution_count": null,
   "id": "06c41338-d718-4bf8-8a34-03a0f21aa79d",
   "metadata": {},
   "outputs": [],
   "source": [
    "rf_model = RandomForestRegressor(n_estimators=100, random_state=42)\n",
    "rf_model.fit(X_train_scaled, y_train)"
   ]
  },
  {
   "cell_type": "markdown",
   "id": "50bbbab2-9134-4079-aedd-5135706d7e99",
   "metadata": {},
   "source": [
    "### XG Boost Regressor"
   ]
  },
  {
   "cell_type": "code",
   "execution_count": null,
   "id": "894135ff-768a-4069-9c0d-34d3b1ac25da",
   "metadata": {},
   "outputs": [],
   "source": [
    "xgb_model = XGBRegressor(n_estimators=100, learning_rate=0.1, random_state=42)\n",
    "xgb_model.fit(X_train_scaled, y_train)"
   ]
  },
  {
   "cell_type": "markdown",
   "id": "dbb161ad-33c7-4116-ab0f-15c80fdca01c",
   "metadata": {},
   "source": [
    "## Model Evaluation"
   ]
  },
  {
   "cell_type": "code",
   "execution_count": null,
   "id": "b77f025d-008a-4264-bb17-511b38814594",
   "metadata": {},
   "outputs": [],
   "source": [
    "def evaluate_model(model, X_test, y_test, name):\n",
    "    preds = model.predict(X_test)\n",
    "    r2 = r2_score(y_test, preds)\n",
    "    mae = mean_absolute_error(y_test, preds)\n",
    "    mse = mean_squared_error(y_test, preds)\n",
    "    print(f\"{name} Model:\")\n",
    "    print(f\"R² Score: {r2:.4f}\")\n",
    "    print(f\"Mean Absolute Error (MAE): {mae:.4f}\")\n",
    "    print(f\"Mean Squared Error (MSE): {mse:.4f}\\n\")\n",
    "    return r2, mae, mse\n",
    "\n",
    "rf_r2, rf_mae, rf_mse = evaluate_model(rf_model, X_test_scaled, y_test, \"Random Forest\")\n",
    "xgb_r2, xgb_mae, xgb_mse = evaluate_model(xgb_model, X_test_scaled, y_test, \"XGBoost\")"
   ]
  },
  {
   "cell_type": "markdown",
   "id": "591f6985-09b7-4b3f-9153-e964ff47ffec",
   "metadata": {},
   "source": [
    "### Best model\n"
   ]
  },
  {
   "cell_type": "code",
   "execution_count": null,
   "id": "d486f3a2-99c3-476a-befc-5ea4981a366a",
   "metadata": {},
   "outputs": [],
   "source": [
    "models = {\"Random Forest\": (rf_model, rf_r2, rf_mae, rf_mse), \"XGBoost\": (xgb_model, xgb_r2, xgb_mae, xgb_mse)}\n",
    "best_model_name = max(models, key=lambda k: models[k][1]) \n",
    "best_model, best_r2, best_mae, best_mse = models[best_model_name]\n",
    "\n",
    "print(f\"Best model selected: {best_model_name}\")\n",
    "print(f\"R² Score: {best_r2:.4f}\")\n",
    "print(f\"Mean Absolute Error (MAE): {best_mae:.4f}\")\n",
    "print(f\"Mean Squared Error (MSE): {best_mse:.4f}\")"
   ]
  },
  {
   "cell_type": "markdown",
   "id": "5de5710d-8663-45ed-aa0d-7782e3564fcd",
   "metadata": {},
   "source": [
    "## Predictions"
   ]
  },
  {
   "cell_type": "code",
   "execution_count": null,
   "id": "9005b813-57bb-4c70-a15d-76ed3f5d23b8",
   "metadata": {},
   "outputs": [],
   "source": [
    "# Predict using XGBoost\n",
    "xgb_predictions = xgb_model.predict(X_test_scaled)\n",
    "\n",
    "# Compare actual vs. predicted values\n",
    "prediction_results = pd.DataFrame({'Actual': y_test, 'Predicted': xgb_predictions})\n",
    "print(prediction_results.head())\n",
    "\n",
    "# Evaluate model\n",
    "print(\"XGBoost Model Performance:\")\n",
    "print(f\"R² Score: {r2_score(y_test, xgb_predictions):.4f}\")\n",
    "print(f\"MAE: {mean_absolute_error(y_test, xgb_predictions):.4f}\")\n",
    "print(f\"MSE: {mean_squared_error(y_test, xgb_predictions):.4f}\")\n"
   ]
  },
  {
   "cell_type": "code",
   "execution_count": null,
   "id": "de9991f3-c63f-499b-b21c-0abafb08f41b",
   "metadata": {},
   "outputs": [],
   "source": [
    "total_months = 120\n",
    "future_dates = pd.date_range(start=df['date'].max(), periods=total_months, freq='ME')\n",
    "future_features = pd.DataFrame({'number_of_accounts': [X['number_of_accounts'].mean()] * total_months,\n",
    "                                'full_fips': [X['full_fips'].mean()] * total_months,\n",
    "                                'month': future_dates.month,\n",
    "                                'year': future_dates.year})\n",
    "\n",
    "future_features_scaled = pd.DataFrame(scaler.transform(future_features), columns=features)\n",
    "future_predictions = best_model.predict(future_features_scaled)\n",
    "\n",
    "future_predictions_df = pd.DataFrame({'date': future_dates, 'predicted_energy_consumption': future_predictions})\n",
    "print(future_predictions_df)"
   ]
  },
  {
   "cell_type": "code",
   "execution_count": null,
   "id": "cb691d1c-2a39-4cde-afbe-5da067a83553",
   "metadata": {},
   "outputs": [],
   "source": [
    "plt.figure(figsize=(10, 5))\n",
    "sns.scatterplot(x=y_test, y=xgb_predictions, color='blue', alpha=0.6)\n",
    "sns.lineplot(x=y_test, y=y_test, color='red', linestyle='dashed')  \n",
    "plt.xlabel(\"Actual Energy Consumption\")\n",
    "plt.ylabel(\"Predicted Energy Consumption\")\n",
    "plt.title(\"Actual vs. Predicted Energy Consumption (XGBoost)\")\n",
    "plt.grid(True)\n",
    "plt.show()\n"
   ]
  },
  {
   "cell_type": "code",
   "execution_count": null,
   "id": "8a133c9d-a93d-4c14-b2d3-096efe366e71",
   "metadata": {},
   "outputs": [],
   "source": []
  },
  {
   "cell_type": "code",
   "execution_count": null,
   "id": "88d1d1cc-bdbc-44ef-a6a1-72cfe4ccb2e7",
   "metadata": {},
   "outputs": [],
   "source": []
  },
  {
   "cell_type": "code",
   "execution_count": null,
   "id": "90e8a5c2-f1e7-4dbb-a95c-144d2c03e411",
   "metadata": {},
   "outputs": [],
   "source": []
  },
  {
   "cell_type": "code",
   "execution_count": null,
   "id": "7362b08b-b528-44c1-86bf-d0a9f131c6da",
   "metadata": {},
   "outputs": [],
   "source": []
  },
  {
   "cell_type": "code",
   "execution_count": null,
   "id": "76869661-8b47-4910-842c-fb0e340af448",
   "metadata": {},
   "outputs": [],
   "source": []
  }
 ],
 "metadata": {
  "kernelspec": {
   "display_name": "Python 3 (ipykernel)",
   "language": "python",
   "name": "python3"
  },
  "language_info": {
   "codemirror_mode": {
    "name": "ipython",
    "version": 3
   },
   "file_extension": ".py",
   "mimetype": "text/x-python",
   "name": "python",
   "nbconvert_exporter": "python",
   "pygments_lexer": "ipython3",
   "version": "3.12.7"
  }
 },
 "nbformat": 4,
 "nbformat_minor": 5
}
