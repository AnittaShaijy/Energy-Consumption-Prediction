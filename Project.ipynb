{
 "cells": [
  {
   "cell_type": "code",
   "execution_count": 3,
   "id": "1285b7a7-6f95-45d3-bd43-12bd7b3f6e99",
   "metadata": {},
   "outputs": [],
   "source": [
    "import pandas as pd"
   ]
  },
  {
   "cell_type": "code",
   "execution_count": 9,
   "id": "a536142e-ebef-4843-a0e5-7e4ebfcc4ad3",
   "metadata": {},
   "outputs": [],
   "source": [
    "df = pd.read_csv(\"C:\\\\Users\\\\user\\\\Downloads\\\\Utility_Energy_Registry_Monthly_County_Energy_Use__2016-2021.csv\")"
   ]
  },
  {
   "cell_type": "code",
   "execution_count": 21,
   "id": "6b65eb75-4e12-4cf2-a34f-cdd59bc39ed1",
   "metadata": {},
   "outputs": [
    {
     "name": "stdout",
     "output_type": "stream",
     "text": [
      "        year   data_class             data_field_display_name  \\\n",
      "0       2020  natural_gas  CCA-Ineligible Customer Count (SC)   \n",
      "1       2020  natural_gas   CCA-Ineligible Customer Count (R)   \n",
      "2       2020  natural_gas               Total Consumption (T)   \n",
      "3       2020  natural_gas         Business Consumption (SC+O)   \n",
      "4       2020  natural_gas   Small Consumer Consumption (R+SC)   \n",
      "...      ...          ...                                 ...   \n",
      "123708  2016  electricity               ICAP Capacity Tag (O)   \n",
      "123709  2016  electricity  CCA-Ineligible Customer Count (SC)   \n",
      "123710  2016  electricity   CCA-Ineligible Customer Count (R)   \n",
      "123711  2016  electricity         Business Consumption (SC+O)   \n",
      "123712  2016  electricity           All Other Consumption (O)   \n",
      "\n",
      "                  data_field  month  full_fips    unit  uer_id  \\\n",
      "0       10_ny_policy_support     12      36123   count       6   \n",
      "1        9_ny_policy_support     12      36123   count       6   \n",
      "2          6_nat_consumption     12      36123  Therms       6   \n",
      "3          5_nat_consumption     12      36123  Therms       6   \n",
      "4           6_ny_consumption     12      36123  Therms       6   \n",
      "...                      ...    ...        ...     ...     ...   \n",
      "123708   3_ny_policy_support      1      36001      MW       2   \n",
      "123709   8_ny_policy_support      1      36001   count       2   \n",
      "123710   7_ny_policy_support      1      36001   count       2   \n",
      "123711     2_nat_consumption      1      36001     MWh       2   \n",
      "123712      2_ny_consumption      1      36001     MWh       2   \n",
      "\n",
      "           data_stream utility_display_name      value  number_of_accounts  \\\n",
      "0       county_monthly                NYSEG       0.00                   0   \n",
      "1       county_monthly                NYSEG       1.00                   1   \n",
      "2       county_monthly                NYSEG  650748.50                3670   \n",
      "3       county_monthly                NYSEG  305284.90                 697   \n",
      "4       county_monthly                NYSEG  418952.40                3249   \n",
      "...                ...                  ...        ...                 ...   \n",
      "123708  county_monthly       Central Hudson       2.44                   0   \n",
      "123709  county_monthly       Central Hudson      51.00                  51   \n",
      "123710  county_monthly       Central Hudson     230.00                 230   \n",
      "123711  county_monthly       Central Hudson    1123.00                 321   \n",
      "123712  county_monthly       Central Hudson    1001.00                 150   \n",
      "\n",
      "       state_2  \n",
      "0           NY  \n",
      "1           NY  \n",
      "2           NY  \n",
      "3           NY  \n",
      "4           NY  \n",
      "...        ...  \n",
      "123708      NY  \n",
      "123709      NY  \n",
      "123710      NY  \n",
      "123711      NY  \n",
      "123712      NY  \n",
      "\n",
      "[123713 rows x 13 columns]\n"
     ]
    }
   ],
   "source": [
    "new_df = df.fillna(0)\n",
    "print(new_df)"
   ]
  },
  {
   "cell_type": "code",
   "execution_count": 17,
   "id": "499fd0fc-82e2-43f4-a9a3-418fcf797f90",
   "metadata": {},
   "outputs": [
    {
     "name": "stdout",
     "output_type": "stream",
     "text": [
      "        year   data_class             data_field_display_name  \\\n",
      "0       2020  natural_gas  CCA-Ineligible Customer Count (SC)   \n",
      "1       2020  natural_gas   CCA-Ineligible Customer Count (R)   \n",
      "2       2020  natural_gas               Total Consumption (T)   \n",
      "3       2020  natural_gas         Business Consumption (SC+O)   \n",
      "4       2020  natural_gas   Small Consumer Consumption (R+SC)   \n",
      "...      ...          ...                                 ...   \n",
      "123708  2016  electricity               ICAP Capacity Tag (O)   \n",
      "123709  2016  electricity  CCA-Ineligible Customer Count (SC)   \n",
      "123710  2016  electricity   CCA-Ineligible Customer Count (R)   \n",
      "123711  2016  electricity         Business Consumption (SC+O)   \n",
      "123712  2016  electricity           All Other Consumption (O)   \n",
      "\n",
      "                  data_field  month  full_fips    unit  uer_id  \\\n",
      "0       10_ny_policy_support     12      36123   count       6   \n",
      "1        9_ny_policy_support     12      36123   count       6   \n",
      "2          6_nat_consumption     12      36123  Therms       6   \n",
      "3          5_nat_consumption     12      36123  Therms       6   \n",
      "4           6_ny_consumption     12      36123  Therms       6   \n",
      "...                      ...    ...        ...     ...     ...   \n",
      "123708   3_ny_policy_support      1      36001      MW       2   \n",
      "123709   8_ny_policy_support      1      36001   count       2   \n",
      "123710   7_ny_policy_support      1      36001   count       2   \n",
      "123711     2_nat_consumption      1      36001     MWh       2   \n",
      "123712      2_ny_consumption      1      36001     MWh       2   \n",
      "\n",
      "           data_stream utility_display_name      value  number_of_accounts  \\\n",
      "0       county_monthly                NYSEG       0.00                   0   \n",
      "1       county_monthly                NYSEG       1.00                   1   \n",
      "2       county_monthly                NYSEG  650748.50                3670   \n",
      "3       county_monthly                NYSEG  305284.90                 697   \n",
      "4       county_monthly                NYSEG  418952.40                3249   \n",
      "...                ...                  ...        ...                 ...   \n",
      "123708  county_monthly       Central Hudson       2.44                   0   \n",
      "123709  county_monthly       Central Hudson      51.00                  51   \n",
      "123710  county_monthly       Central Hudson     230.00                 230   \n",
      "123711  county_monthly       Central Hudson    1123.00                 321   \n",
      "123712  county_monthly       Central Hudson    1001.00                 150   \n",
      "\n",
      "       state_2  \n",
      "0           NY  \n",
      "1           NY  \n",
      "2           NY  \n",
      "3           NY  \n",
      "4           NY  \n",
      "...        ...  \n",
      "123708      NY  \n",
      "123709      NY  \n",
      "123710      NY  \n",
      "123711      NY  \n",
      "123712      NY  \n",
      "\n",
      "[123713 rows x 13 columns]\n"
     ]
    }
   ],
   "source": [
    "new_data = df.drop_duplicates()\n",
    "print(new_data)"
   ]
  },
  {
   "cell_type": "code",
   "execution_count": 25,
   "id": "4203ddfc-89fc-4571-b5d6-0d7bd70bb6a4",
   "metadata": {},
   "outputs": [],
   "source": [
    "df[\"date\"] = pd.to_datetime(df[[\"year\", \"month\"]].assign(day=1))"
   ]
  },
  {
   "cell_type": "code",
   "execution_count": 27,
   "id": "7664845c-55e6-4d24-9611-203b14e1b34b",
   "metadata": {},
   "outputs": [],
   "source": [
    "df.drop(columns=[\"year\", \"month\"], inplace=True)"
   ]
  },
  {
   "cell_type": "code",
   "execution_count": 29,
   "id": "5f3b8c4a-0fdd-4b64-9e84-988aeae05e7a",
   "metadata": {},
   "outputs": [],
   "source": [
    "df[\"data_class\"] = df[\"data_class\"].str.lower()\n",
    "df[\"utility_display_name\"] = df[\"utility_display_name\"].str.lower()\n",
    "df[\"state_2\"] = df[\"state_2\"].str.upper()"
   ]
  },
  {
   "cell_type": "code",
   "execution_count": 31,
   "id": "607e5be3-f83e-4b64-913d-e10b4087e138",
   "metadata": {},
   "outputs": [],
   "source": [
    "df[\"z_score\"] = (df[\"value\"] - df[\"value\"].mean()) / df[\"value\"].std()\n",
    "df[\"outlier\"] = df[\"z_score\"].abs() > 3  "
   ]
  },
  {
   "cell_type": "code",
   "execution_count": 33,
   "id": "07f4f13c-9c11-47df-a542-3e2779b03933",
   "metadata": {},
   "outputs": [],
   "source": [
    "df.sort_values(by=\"date\", inplace=True)"
   ]
  },
  {
   "cell_type": "code",
   "execution_count": 41,
   "id": "6d6c3269-803c-4d28-9da0-85b480dfc96d",
   "metadata": {},
   "outputs": [],
   "source": [
    "df.to_csv(\"C:\\\\Users\\\\user\\\\Downloads\\\\energy_consumption_prediction.csv\", index=False)"
   ]
  },
  {
   "cell_type": "code",
   "execution_count": 43,
   "id": "25e15a5a-0c06-4bbd-8595-42a7dcae6908",
   "metadata": {},
   "outputs": [
    {
     "name": "stdout",
     "output_type": "stream",
     "text": [
      "<class 'pandas.core.frame.DataFrame'>\n",
      "Index: 123713 entries, 123712 to 0\n",
      "Data columns (total 14 columns):\n",
      " #   Column                   Non-Null Count   Dtype         \n",
      "---  ------                   --------------   -----         \n",
      " 0   data_class               123713 non-null  object        \n",
      " 1   data_field_display_name  123713 non-null  object        \n",
      " 2   data_field               123713 non-null  object        \n",
      " 3   full_fips                123713 non-null  int64         \n",
      " 4   unit                     123713 non-null  object        \n",
      " 5   uer_id                   123713 non-null  int64         \n",
      " 6   data_stream              123713 non-null  object        \n",
      " 7   utility_display_name     123713 non-null  object        \n",
      " 8   value                    123713 non-null  float64       \n",
      " 9   number_of_accounts       123713 non-null  int64         \n",
      " 10  state_2                  123713 non-null  object        \n",
      " 11  date                     123713 non-null  datetime64[ns]\n",
      " 12  z_score                  123713 non-null  float64       \n",
      " 13  outlier                  123713 non-null  bool          \n",
      "dtypes: bool(1), datetime64[ns](1), float64(2), int64(3), object(7)\n",
      "memory usage: 13.3+ MB\n"
     ]
    }
   ],
   "source": [
    "df.info()"
   ]
  },
  {
   "cell_type": "code",
   "execution_count": 45,
   "id": "38a870d0-b110-4215-b335-5348e8a1e28b",
   "metadata": {},
   "outputs": [
    {
     "data": {
      "text/html": [
       "<div>\n",
       "<style scoped>\n",
       "    .dataframe tbody tr th:only-of-type {\n",
       "        vertical-align: middle;\n",
       "    }\n",
       "\n",
       "    .dataframe tbody tr th {\n",
       "        vertical-align: top;\n",
       "    }\n",
       "\n",
       "    .dataframe thead th {\n",
       "        text-align: right;\n",
       "    }\n",
       "</style>\n",
       "<table border=\"1\" class=\"dataframe\">\n",
       "  <thead>\n",
       "    <tr style=\"text-align: right;\">\n",
       "      <th></th>\n",
       "      <th>full_fips</th>\n",
       "      <th>uer_id</th>\n",
       "      <th>value</th>\n",
       "      <th>number_of_accounts</th>\n",
       "      <th>date</th>\n",
       "      <th>z_score</th>\n",
       "    </tr>\n",
       "  </thead>\n",
       "  <tbody>\n",
       "    <tr>\n",
       "      <th>count</th>\n",
       "      <td>123713.000000</td>\n",
       "      <td>123713.000000</td>\n",
       "      <td>1.237130e+05</td>\n",
       "      <td>1.237130e+05</td>\n",
       "      <td>123713</td>\n",
       "      <td>1.237130e+05</td>\n",
       "    </tr>\n",
       "    <tr>\n",
       "      <th>mean</th>\n",
       "      <td>36060.595160</td>\n",
       "      <td>5.439065</td>\n",
       "      <td>9.507460e+05</td>\n",
       "      <td>2.134277e+04</td>\n",
       "      <td>2018-06-18 13:12:30.624429056</td>\n",
       "      <td>-9.878780e-18</td>\n",
       "    </tr>\n",
       "    <tr>\n",
       "      <th>min</th>\n",
       "      <td>36001.000000</td>\n",
       "      <td>2.000000</td>\n",
       "      <td>-2.354534e+05</td>\n",
       "      <td>0.000000e+00</td>\n",
       "      <td>2016-01-01 00:00:00</td>\n",
       "      <td>-1.958568e-01</td>\n",
       "    </tr>\n",
       "    <tr>\n",
       "      <th>25%</th>\n",
       "      <td>36027.000000</td>\n",
       "      <td>5.000000</td>\n",
       "      <td>2.000000e+00</td>\n",
       "      <td>0.000000e+00</td>\n",
       "      <td>2017-03-01 00:00:00</td>\n",
       "      <td>-1.569800e-01</td>\n",
       "    </tr>\n",
       "    <tr>\n",
       "      <th>50%</th>\n",
       "      <td>36063.000000</td>\n",
       "      <td>6.000000</td>\n",
       "      <td>1.923000e+03</td>\n",
       "      <td>9.640000e+02</td>\n",
       "      <td>2018-06-01 00:00:00</td>\n",
       "      <td>-1.566629e-01</td>\n",
       "    </tr>\n",
       "    <tr>\n",
       "      <th>75%</th>\n",
       "      <td>36091.000000</td>\n",
       "      <td>6.000000</td>\n",
       "      <td>3.090408e+04</td>\n",
       "      <td>8.097000e+03</td>\n",
       "      <td>2019-10-01 00:00:00</td>\n",
       "      <td>-1.518777e-01</td>\n",
       "    </tr>\n",
       "    <tr>\n",
       "      <th>max</th>\n",
       "      <td>36123.000000</td>\n",
       "      <td>9.000000</td>\n",
       "      <td>2.328298e+08</td>\n",
       "      <td>1.068742e+07</td>\n",
       "      <td>2020-12-01 00:00:00</td>\n",
       "      <td>3.828621e+01</td>\n",
       "    </tr>\n",
       "    <tr>\n",
       "      <th>std</th>\n",
       "      <td>36.341543</td>\n",
       "      <td>1.638686</td>\n",
       "      <td>6.056464e+06</td>\n",
       "      <td>1.034629e+05</td>\n",
       "      <td>NaN</td>\n",
       "      <td>1.000000e+00</td>\n",
       "    </tr>\n",
       "  </tbody>\n",
       "</table>\n",
       "</div>"
      ],
      "text/plain": [
       "           full_fips         uer_id         value  number_of_accounts  \\\n",
       "count  123713.000000  123713.000000  1.237130e+05        1.237130e+05   \n",
       "mean    36060.595160       5.439065  9.507460e+05        2.134277e+04   \n",
       "min     36001.000000       2.000000 -2.354534e+05        0.000000e+00   \n",
       "25%     36027.000000       5.000000  2.000000e+00        0.000000e+00   \n",
       "50%     36063.000000       6.000000  1.923000e+03        9.640000e+02   \n",
       "75%     36091.000000       6.000000  3.090408e+04        8.097000e+03   \n",
       "max     36123.000000       9.000000  2.328298e+08        1.068742e+07   \n",
       "std        36.341543       1.638686  6.056464e+06        1.034629e+05   \n",
       "\n",
       "                                date       z_score  \n",
       "count                         123713  1.237130e+05  \n",
       "mean   2018-06-18 13:12:30.624429056 -9.878780e-18  \n",
       "min              2016-01-01 00:00:00 -1.958568e-01  \n",
       "25%              2017-03-01 00:00:00 -1.569800e-01  \n",
       "50%              2018-06-01 00:00:00 -1.566629e-01  \n",
       "75%              2019-10-01 00:00:00 -1.518777e-01  \n",
       "max              2020-12-01 00:00:00  3.828621e+01  \n",
       "std                              NaN  1.000000e+00  "
      ]
     },
     "execution_count": 45,
     "metadata": {},
     "output_type": "execute_result"
    }
   ],
   "source": [
    "df.describe()"
   ]
  },
  {
   "cell_type": "code",
   "execution_count": null,
   "id": "cd44973f-167f-4ece-a8c3-4fe64edfcf94",
   "metadata": {},
   "outputs": [],
   "source": []
  }
 ],
 "metadata": {
  "kernelspec": {
   "display_name": "Python 3 (ipykernel)",
   "language": "python",
   "name": "python3"
  },
  "language_info": {
   "codemirror_mode": {
    "name": "ipython",
    "version": 3
   },
   "file_extension": ".py",
   "mimetype": "text/x-python",
   "name": "python",
   "nbconvert_exporter": "python",
   "pygments_lexer": "ipython3",
   "version": "3.12.7"
  }
 },
 "nbformat": 4,
 "nbformat_minor": 5
}
